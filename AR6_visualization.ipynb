{
 "cells": [
  {
   "cell_type": "markdown",
   "id": "4f87190b",
   "metadata": {},
   "source": [
    "Assessment 2 for OSESM."
   ]
  },
  {
   "cell_type": "code",
   "execution_count": 1,
   "id": "2f1c9152",
   "metadata": {},
   "outputs": [
    {
     "data": {
      "application/javascript": [
       "if (typeof IPython !== 'undefined') { IPython.OutputArea.prototype._should_scroll = function(lines){ return false; }}"
      ],
      "text/plain": [
       "<IPython.core.display.Javascript object>"
      ]
     },
     "metadata": {},
     "output_type": "display_data"
    }
   ],
   "source": [
    "import pyam\n",
    "import pandas as pd\n",
    "import matplotlib.pyplot as plt"
   ]
  },
  {
   "cell_type": "markdown",
   "id": "477707c3",
   "metadata": {},
   "source": [
    "Import Data from https://data.ece.iiasa.ac.at/ar6\n",
    "\n",
    "'ar6_data.xlsx' is filled with data from two scenarios of the same model.\n",
    "\n",
    "The used Model is: MESSAGEix-GLOBIOM_1.1\n",
    "\n",
    "The two scenarios are:\n",
    " - EN_NPi2020_1000\n",
    "     - category C3: limit warming to 2°C (>67%)\n",
    " - EN_NPi2020_3000\n",
    "     - category C6: limit warming to 3°C (>50%)\n",
    " \n"
   ]
  },
  {
   "cell_type": "code",
   "execution_count": 2,
   "id": "441199b5",
   "metadata": {},
   "outputs": [
    {
     "name": "stderr",
     "output_type": "stream",
     "text": [
      "pyam - INFO: Running in a notebook, setting up a basic logging at level INFO\n",
      "pyam.core - INFO: Reading file ar6_data.xlsx\n"
     ]
    },
    {
     "data": {
      "text/plain": [
       "<class 'pyam.core.IamDataFrame'>\n",
       "Index:\n",
       " * model    : MESSAGEix-GLOBIOM_1.1 (1)\n",
       " * scenario : EN_NPi2020_1000, EN_NPi2020_3000 (2)\n",
       "Timeseries data coordinates:\n",
       "   region   : World (1)\n",
       "   variable : ... (6)\n",
       "   unit     : EJ/yr, K, Mt CO2/yr (3)\n",
       "   year     : 2000, 2001, 2002, 2003, 2004, 2005, 2006, 2007, ... 2100 (101)\n",
       "Meta indicators:\n",
       "   exclude (bool) False (1)"
      ]
     },
     "execution_count": 2,
     "metadata": {},
     "output_type": "execute_result"
    }
   ],
   "source": [
    "df = pyam.IamDataFrame('ar6_data.xlsx')\n",
    "df"
   ]
  },
  {
   "cell_type": "markdown",
   "id": "0ed6f123",
   "metadata": {},
   "source": [
    "Show correlation bewteen CO2 Emissions and rising temperatures"
   ]
  },
  {
   "cell_type": "code",
   "execution_count": 3,
   "id": "787a2232",
   "metadata": {},
   "outputs": [
    {
     "ename": "NameError",
     "evalue": "name 'model' is not defined",
     "output_type": "error",
     "traceback": [
      "\u001b[0;31m---------------------------------------------------------------------------\u001b[0m",
      "\u001b[0;31mNameError\u001b[0m                                 Traceback (most recent call last)",
      "\u001b[0;32m/var/folders/4d/n8dyxkj52jv4bkxfq5p3_rdw0000gn/T/ipykernel_25778/931298400.py\u001b[0m in \u001b[0;36m<module>\u001b[0;34m\u001b[0m\n\u001b[1;32m      2\u001b[0m \u001b[0;34m\u001b[0m\u001b[0m\n\u001b[1;32m      3\u001b[0m \u001b[0;31m#filter data\u001b[0m\u001b[0;34m\u001b[0m\u001b[0;34m\u001b[0m\u001b[0m\n\u001b[0;32m----> 4\u001b[0;31m data_temperature_1000 = df.filter(model = model, \n\u001b[0m\u001b[1;32m      5\u001b[0m                              \u001b[0mscenario\u001b[0m \u001b[0;34m=\u001b[0m \u001b[0;34m[\u001b[0m\u001b[0;34m'EN_NPi2020_1000'\u001b[0m\u001b[0;34m]\u001b[0m\u001b[0;34m,\u001b[0m\u001b[0;34m\u001b[0m\u001b[0;34m\u001b[0m\u001b[0m\n\u001b[1;32m      6\u001b[0m                              \u001b[0mvariable\u001b[0m\u001b[0;34m=\u001b[0m\u001b[0;34m[\u001b[0m\u001b[0;34m'AR6*'\u001b[0m\u001b[0;34m]\u001b[0m\u001b[0;34m,\u001b[0m\u001b[0;34m\u001b[0m\u001b[0;34m\u001b[0m\u001b[0m\n",
      "\u001b[0;31mNameError\u001b[0m: name 'model' is not defined"
     ]
    },
    {
     "data": {
      "image/png": "[encoded data removed]",
      "text/plain": [
       "<Figure size 432x288 with 1 Axes>"
      ]
     },
     "metadata": {
      "needs_background": "light"
     },
     "output_type": "display_data"
    }
   ],
   "source": [
    "fig, ax = plt.subplots()\n",
    "\n",
    "#filter data\n",
    "data_temperature_1000 = df.filter(model = model, \n",
    "                             scenario = ['EN_NPi2020_1000'], \n",
    "                             variable=['AR6*'],\n",
    "                             year = range(2000,2101))\n",
    "data_temperature_3000 = df.filter(model = model, \n",
    "                             scenario = ['EN_NPi2020_3000'], \n",
    "                             variable=['AR6*'],\n",
    "                             year = range(2000,2101))\n",
    "\n",
    "data_emissions_1000 = df.filter(model = model, \n",
    "                                scenario = ['EN_NPi2020_1000'], \n",
    "                                variable=['Emissions*'],\n",
    "                                year = range(2000,2101))\n",
    "data_emissions_3000 = df.filter(model = model, \n",
    "                                scenario = ['EN_NPi2020_3000'], \n",
    "                                variable=['Emissions*'],\n",
    "                                year = range(2000,2101))\n",
    "\n",
    "#plot data\n",
    "format_kwargs = dict(legend=False, title=None)\n",
    "data_temperature_1000.plot(ax=ax, color = 'g', label=\"Temperature 1000\")\n",
    "data_temperature_3000.plot(ax=ax, color = 'r', label=\"Temperature 3000\")\n",
    "\n",
    "#generate a second (hidden) x-axis\n",
    "ax2 = ax.twinx()\n",
    "\n",
    "format_kwargs = dict(legend=False, title=None, linestyle=\"--\", marker=\"o\")\n",
    "data_emissions_1000.plot(ax=ax2, **format_kwargs, color = 'g', label=\"CO2 Emissions 1000\")\n",
    "data_emissions_3000.plot(ax=ax2, **format_kwargs, color = 'r', label=\"CO2 Emissions 3000\")\n",
    "\n",
    "\n",
    "\n",
    "ax.legend(loc=3)\n",
    "ax2.legend(loc=4)\n",
    "ax.set_ylim(0, 3)\n",
    "ax.set_title(\"Temperature and CO2 Emissons\")\n",
    "\n",
    "plt.show()"
   ]
  },
  {
   "cell_type": "markdown",
   "id": "309ecb06",
   "metadata": {},
   "source": [
    "Show Electrification rate in two scenarios"
   ]
  },
  {
   "cell_type": "code",
   "execution_count": null,
   "id": "37ec2ea3",
   "metadata": {},
   "outputs": [],
   "source": [
    "fig, ax = plt.subplots()\n",
    "\n",
    "electricity_df = df.filter(model = model,\n",
    "                           variable = ['Primary*', 'Secondary Energy*'],\n",
    "                           year = range(2000,2101))\n",
    "#filter data\n",
    "data_primenergy_1000 = electricity_df.filter(scenario = ['EN_NPi2020_1000'],\n",
    "                                              variable = ['Primary*'])\n",
    "data_primenergy_3000 = electricity_df.filter(scenario = ['EN_NPi2020_3000'],\n",
    "                                              variable = ['Primary*'])\n",
    "\n",
    "data_emissions_1000 = electricity_df.filter(scenario = ['EN_NPi2020_1000'],\n",
    "                                            variable = ['Secondary Energy|Electricity'])\n",
    "data_emissions_3000 = electricity_df.filter(scenario = ['EN_NPi2020_3000'],\n",
    "                                            variable = ['Secondary Energy|Electricity'])\n",
    "\n",
    "#calculate percentage of electricity share\n",
    "electricity_energy_df = electricity_df.filter(variable = ['Primary*', 'Secondary Energy|Electricity'])\n",
    "\n",
    "data_share_electricity =    (\n",
    "                                electricity_energy_df.divide(\"Secondary Energy|Electricity\", \"Primary Energy\", \"Share of Electricity in Energy\")\n",
    "                                #.rename(unit={\"\": \"%\"})\n",
    "                                #.timeseries()\n",
    "                            )\n",
    "data_share_electricity_1000 = data_share_electricity.filter(scenario = ['EN_NPi2020_1000'])\n",
    "data_share_electricity_3000 = data_share_electricity.filter(scenario = ['EN_NPi2020_3000'])\n",
    "\n",
    "\n",
    "#plot data\n",
    "format_kwargs = dict(legend=False, title=None)\n",
    "data_primenergy_1000.plot(ax=ax, color = 'g', label=\"Primary Energy 1000\")\n",
    "data_primenergy_3000.plot(ax=ax, color = 'r', label=\"Primary Energy 3000\")\n",
    "\n",
    "format_kwargs = dict(legend=False, title=None)\n",
    "data_emissions_1000.plot(ax=ax, **format_kwargs, label=\"Secondary Energy|Electricity 1000\")\n",
    "data_emissions_3000.plot(ax=ax, **format_kwargs, label=\"Secondary Energy|Electricity 3000\")\n",
    "\n",
    "#generate a second (hidden) x-axis\n",
    "ax2 = ax.twinx()\n",
    "\n",
    "format_kwargs = dict(legend=False, title=None, linestyle=\"--\", marker=\"d\")\n",
    "data_share_electricity_1000.plot(ax=ax2, **format_kwargs, label=\"Share of Electricity 1000\")\n",
    "data_share_electricity_3000.plot(ax=ax2, **format_kwargs, label=\"Share of Electricity 3000\")\n",
    "\n",
    "\n",
    "\n",
    "ax.legend(loc=2)\n",
    "ax2.legend(loc=4)\n",
    "ax2.set_ylim(0, 1)\n",
    "ax2.set_ylabel('% / 100')\n",
    "ax.set_title(\"Electrification vs Primary Energy\")\n",
    "\n",
    "plt.show()"
   ]
  },
  {
   "cell_type": "markdown",
   "id": "b1a0ca37",
   "metadata": {},
   "source": [
    "Share of Solar in producing electricity"
   ]
  },
  {
   "cell_type": "code",
   "execution_count": null,
   "id": "1517864c",
   "metadata": {},
   "outputs": [],
   "source": [
    "fig, ax = plt.subplots()\n",
    "\n",
    "electricity_df = df.filter(model = model,\n",
    "                           variable = ['Primary*', 'Secondary Energy*'],\n",
    "                           year = range(2000,2101))\n",
    "#filter data\n",
    "data_electricity_1000 = electricity_df.filter(scenario = ['EN_NPi2020_1000'],\n",
    "                                              variable = ['Secondary Energy|Electricity'])\n",
    "data_electricity_3000 = electricity_df.filter(scenario = ['EN_NPi2020_3000'],\n",
    "                                              variable = ['Secondary Energy|Electricity'])\n",
    "\n",
    "data_solar_1000 = electricity_df.filter(scenario = ['EN_NPi2020_1000'],\n",
    "                                            variable = ['Secondary Energy|Electricity|Solar'])\n",
    "data_solar_3000 = electricity_df.filter(scenario = ['EN_NPi2020_3000'],\n",
    "                                            variable = ['Secondary Energy|Electricity|Solar'])\n",
    "\n",
    "#calculate percentage of solar share\n",
    "solar_energy_df = electricity_df.filter(variable = ['Secondary Energy|Electricity', 'Secondary Energy|Electricity|Solar'])\n",
    "\n",
    "data_share_solar =  (\n",
    "                        solar_energy_df.divide(\"Secondary Energy|Electricity|Solar\", \n",
    "                                                     \"Secondary Energy|Electricity\", \n",
    "                                                     \"Share of Solar in Electricity\")\n",
    "                        #.rename(unit={\"\": \"%\"})\n",
    "                        #.timeseries()\n",
    "                    )\n",
    "data_share_solar_1000 = data_share_solar.filter(scenario = ['EN_NPi2020_1000'])\n",
    "data_share_solar_3000 = data_share_solar.filter(scenario = ['EN_NPi2020_3000'])\n",
    "\n",
    "\n",
    "#plot data\n",
    "format_kwargs = dict(legend=False, title=None)\n",
    "data_electricity_1000.plot(ax=ax, color = 'g', label=\"Primary Energy 1000\")\n",
    "data_electricity_3000.plot(ax=ax, color = 'r', label=\"Primary Energy 3000\")\n",
    "\n",
    "format_kwargs = dict(legend=False, title=None)\n",
    "data_solar_1000.plot(ax=ax, **format_kwargs, label=\"Solar Energy 1000\")\n",
    "data_solar_3000.plot(ax=ax, **format_kwargs, label=\"Solar Energy 3000\")\n",
    "\n",
    "\n",
    "#generate a second (hidden) x-axis\n",
    "ax2 = ax.twinx()\n",
    "\n",
    "format_kwargs = dict(legend=False, title=None, linestyle=\"--\", marker=\"d\")\n",
    "data_share_solar_1000.plot(ax=ax2, **format_kwargs, label=\"Share of Solar Energy 1000\")\n",
    "data_share_solar_3000.plot(ax=ax2, **format_kwargs, label=\"Share of Solar Energy 3000\")\n",
    "\n",
    "ax.legend(loc=2)\n",
    "ax2.legend(loc=1)\n",
    "ax2.set_ylim(0, 1)\n",
    "ax2.set_ylabel('% / 100')\n",
    "ax.set_title(\"Solar Energy share in secondary energy\")\n",
    "\n",
    "plt.show()"
   ]
  },
  {
   "cell_type": "markdown",
   "id": "d41c3b42",
   "metadata": {},
   "source": [
    "Share of wind in producing electricity"
   ]
  },
  {
   "cell_type": "code",
   "execution_count": null,
   "id": "d35dcf5b",
   "metadata": {},
   "outputs": [],
   "source": [
    "fig, ax = plt.subplots()\n",
    "\n",
    "electricity_df = df.filter(model = model,\n",
    "                           variable = ['Primary*', 'Secondary Energy*'],\n",
    "                           year = range(2000,2101))\n",
    "#filter data\n",
    "data_electricity_1000 = electricity_df.filter(scenario = ['EN_NPi2020_1000'],\n",
    "                                              variable = ['Secondary Energy|Electricity'])\n",
    "data_electricity_3000 = electricity_df.filter(scenario = ['EN_NPi2020_3000'],\n",
    "                                              variable = ['Secondary Energy|Electricity'])\n",
    "\n",
    "data_wind_1000 = electricity_df.filter(scenario = ['EN_NPi2020_1000'],\n",
    "                                            variable = ['Secondary Energy|Electricity|Wind'])\n",
    "data_wind_3000 = electricity_df.filter(scenario = ['EN_NPi2020_3000'],\n",
    "                                            variable = ['Secondary Energy|Electricity|Wind'])\n",
    "\n",
    "#calculate percentage of solar share\n",
    "wind_energy_df = electricity_df.filter(variable = ['Secondary Energy|Electricity', 'Secondary Energy|Electricity|Wind'])\n",
    "\n",
    "data_share_wind =  (\n",
    "                        wind_energy_df.divide(\"Secondary Energy|Electricity|Wind\", \n",
    "                                                     \"Secondary Energy|Electricity\", \n",
    "                                                     \"Share of Wind in Electricity\")\n",
    "                        #.rename(unit={\"\": \"%\"})\n",
    "                        #.timeseries()\n",
    "                    )\n",
    "data_share_wind_1000 = data_share_wind.filter(scenario = ['EN_NPi2020_1000'])\n",
    "data_share_wind_3000 = data_share_wind.filter(scenario = ['EN_NPi2020_3000'])\n",
    "\n",
    "\n",
    "#plot data\n",
    "format_kwargs = dict(legend=False, title=None)\n",
    "data_electricity_1000.plot(ax=ax, color = 'g', label=\"Primary Energy 1000\")\n",
    "data_electricity_3000.plot(ax=ax, color = 'r', label=\"Primary Energy 3000\")\n",
    "\n",
    "format_kwargs = dict(legend=False, title=None)\n",
    "data_wind_1000.plot(ax=ax, **format_kwargs, label=\"Wind Energy 1000\")\n",
    "data_wind_3000.plot(ax=ax, **format_kwargs, label=\"Wind Energy 3000\")\n",
    "\n",
    "\n",
    "#generate a second (hidden) x-axis\n",
    "ax2 = ax.twinx()\n",
    "\n",
    "format_kwargs = dict(legend=False, title=None, linestyle=\"--\", marker=\"d\")\n",
    "data_share_wind_1000.plot(ax=ax2, **format_kwargs, label=\"Share of Wind Energy 1000\")\n",
    "data_share_wind_3000.plot(ax=ax2, **format_kwargs, label=\"Share of Wind Energy 3000\")\n",
    "\n",
    "ax.legend(loc=2)\n",
    "ax2.legend(loc=1)\n",
    "ax2.set_ylim(0, 1)\n",
    "ax2.set_ylabel('% / 100')\n",
    "ax.set_title(\"Wind Energy share in secondary energy\")\n",
    "\n",
    "plt.show()"
   ]
  },
  {
   "cell_type": "code",
   "execution_count": null,
   "id": "f0ac600e",
   "metadata": {},
   "outputs": [],
   "source": []
  },
  {
   "cell_type": "code",
   "execution_count": null,
   "id": "9cfff1ac",
   "metadata": {
    "scrolled": true
   },
   "outputs": [],
   "source": []
  }
 ],
 "metadata": {
  "kernelspec": {
   "display_name": "Python 3 (ipykernel)",
   "language": "python",
   "name": "python3"
  },
  "language_info": {
   "codemirror_mode": {
    "name": "ipython",
    "version": 3
   },
   "file_extension": ".py",
   "mimetype": "text/x-python",
   "name": "python",
   "nbconvert_exporter": "python",
   "pygments_lexer": "ipython3",
   "version": "3.9.7"
  }
 },
 "nbformat": 4,
 "nbformat_minor": 5
}
