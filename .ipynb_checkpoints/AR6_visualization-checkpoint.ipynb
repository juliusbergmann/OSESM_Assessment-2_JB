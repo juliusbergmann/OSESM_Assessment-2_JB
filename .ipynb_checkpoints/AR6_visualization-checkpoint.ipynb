{
 "cells": [
  {
   "cell_type": "markdown",
   "id": "4f87190b",
   "metadata": {},
   "source": [
    "Assessment 2 for OSESM."
   ]
  },
  {
   "cell_type": "code",
   "execution_count": 2,
   "id": "2f1c9152",
   "metadata": {},
   "outputs": [
    {
     "data": {
      "application/javascript": [
       "if (typeof IPython !== 'undefined') { IPython.OutputArea.prototype._should_scroll = function(lines){ return false; }}"
      ],
      "text/plain": [
       "<IPython.core.display.Javascript object>"
      ]
     },
     "metadata": {},
     "output_type": "display_data"
    }
   ],
   "source": [
    "import pyam\n",
    "import matplotlib.pyplot as plt"
   ]
  },
  {
   "cell_type": "markdown",
   "id": "477707c3",
   "metadata": {},
   "source": [
    "Import Data from https://data.ece.iiasa.ac.at/ar6\n",
    "\n",
    "'ar6_data.xlsx' is filled with data from two scenarios of the same model.\n",
    "\n",
    "The used Model is: MESSAGEix-GLOBIOM_1.1\n",
    "\n",
    "The two scenarios are:\n",
    " - EN_NPi2020_1000\n",
    "     - category C3: limit warming to 2°C (>67%)\n",
    " - EN_NPi2020_3000\n",
    "     - category C6: limit warming to 3°C (>50%)\n",
    " \n"
   ]
  },
  {
   "cell_type": "code",
   "execution_count": 3,
   "id": "441199b5",
   "metadata": {},
   "outputs": [
    {
     "name": "stderr",
     "output_type": "stream",
     "text": [
      "pyam - INFO: Running in a notebook, setting up a basic logging at level INFO\n",
      "pyam.core - INFO: Reading file ar6_data.xlsx\n"
     ]
    },
    {
     "data": {
      "text/plain": [
       "<class 'pyam.core.IamDataFrame'>\n",
       "Index:\n",
       " * model    : MESSAGEix-GLOBIOM_1.1 (1)\n",
       " * scenario : EN_NPi2020_1000, EN_NPi2020_3000 (2)\n",
       "Timeseries data coordinates:\n",
       "   region   : World (1)\n",
       "   variable : ... (6)\n",
       "   unit     : EJ/yr, K, Mt CO2/yr (3)\n",
       "   year     : 2000, 2001, 2002, 2003, 2004, 2005, 2006, 2007, ... 2100 (101)\n",
       "Meta indicators:\n",
       "   exclude (bool) False (1)"
      ]
     },
     "execution_count": 3,
     "metadata": {},
     "output_type": "execute_result"
    }
   ],
   "source": [
    "df = pyam.IamDataFrame('ar6_data.xlsx')\n",
    "df"
   ]
  },
  {
   "cell_type": "markdown",
   "id": "0ed6f123",
   "metadata": {},
   "source": [
    "Show correlation bewteen CO2 Emissions and rising temperatures"
   ]
  },
  {
   "cell_type": "code",
   "execution_count": 15,
   "id": "3a91d941",
   "metadata": {},
   "outputs": [
    {
     "data": {
      "image/png": "[encoded data removed]",
      "text/plain": [
       "<Figure size 432x288 with 2 Axes>"
      ]
     },
     "metadata": {
      "needs_background": "light"
     },
     "output_type": "display_data"
    }
   ],
   "source": [
    "fig, ax = plt.subplots()\n",
    "\n",
    "#filter data\n",
    "data_temperature_1000 = df.filter(model = model, \n",
    "                             scenario = ['EN_NPi2020_1000'], \n",
    "                             variable=['AR6*'],\n",
    "                             year = range(2000,2101))\n",
    "data_temperature_3000 = df.filter(model = model, \n",
    "                             scenario = ['EN_NPi2020_3000'], \n",
    "                             variable=['AR6*'],\n",
    "                             year = range(2000,2101))\n",
    "\n",
    "data_emissions_1000 = df.filter(model = model, \n",
    "                                scenario = ['EN_NPi2020_1000'], \n",
    "                                variable=['Emissions*'],\n",
    "                                year = range(2000,2101))\n",
    "data_emissions_3000 = df.filter(model = model, \n",
    "                                scenario = ['EN_NPi2020_3000'], \n",
    "                                variable=['Emissions*'],\n",
    "                                year = range(2000,2101))\n",
    "\n",
    "#plot data\n",
    "format_kwargs = dict(legend=False, title=None)\n",
    "data_temperature_1000.plot(ax=ax, color = 'g', label=\"Temperature 1000\")\n",
    "data_temperature_3000.plot(ax=ax, color = 'r', label=\"Temperature 3000\")\n",
    "\n",
    "#generate a second (hidden) x-axis\n",
    "ax2 = ax.twinx()\n",
    "\n",
    "format_kwargs = dict(legend=False, title=None, linestyle=\"--\", marker=\"o\")\n",
    "data_emissions_1000.plot(ax=ax2, **format_kwargs, color = 'g', label=\"CO2 Emissions 1000\")\n",
    "data_emissions_3000.plot(ax=ax2, **format_kwargs, color = 'r', label=\"CO2 Emissions 3000\")\n",
    "\n",
    "\n",
    "\n",
    "ax.legend(loc=3)\n",
    "ax2.legend(loc=4)\n",
    "ax.set_ylim(0, 3)\n",
    "ax.set_title(\"Temperature and CO2 Emissons\")\n",
    "\n",
    "plt.show()"
   ]
  },
  {
   "cell_type": "markdown",
   "id": "9751c1ea",
   "metadata": {},
   "source": [
    "Show Electrification rate in two scenarios"
   ]
  },
  {
   "cell_type": "code",
   "execution_count": null,
   "id": "37ec2ea3",
   "metadata": {},
   "outputs": [],
   "source": []
  },
  {
   "cell_type": "code",
   "execution_count": null,
   "id": "f93a0e81",
   "metadata": {},
   "outputs": [],
   "source": []
  },
  {
   "cell_type": "code",
   "execution_count": null,
   "id": "d35dcf5b",
   "metadata": {},
   "outputs": [],
   "source": []
  },
  {
   "cell_type": "code",
   "execution_count": null,
   "id": "f0ac600e",
   "metadata": {},
   "outputs": [],
   "source": []
  },
  {
   "cell_type": "code",
   "execution_count": null,
   "id": "9cfff1ac",
   "metadata": {
    "scrolled": true
   },
   "outputs": [],
   "source": []
  }
 ],
 "metadata": {
  "kernelspec": {
   "display_name": "Python 3 (ipykernel)",
   "language": "python",
   "name": "python3"
  },
  "language_info": {
   "codemirror_mode": {
    "name": "ipython",
    "version": 3
   },
   "file_extension": ".py",
   "mimetype": "text/x-python",
   "name": "python",
   "nbconvert_exporter": "python",
   "pygments_lexer": "ipython3",
   "version": "3.9.7"
  }
 },
 "nbformat": 4,
 "nbformat_minor": 5
}
